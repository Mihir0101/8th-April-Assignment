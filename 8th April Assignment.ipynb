{
 "cells": [
  {
   "cell_type": "markdown",
   "id": "0d5c9dff-3abd-4cb0-9006-25a21e3b9ac3",
   "metadata": {},
   "source": [
    "# 8th April Assignment"
   ]
  },
  {
   "cell_type": "code",
   "execution_count": null,
   "id": "74d3b6bb-0f7d-49e6-a5c0-05525cee11df",
   "metadata": {},
   "outputs": [],
   "source": []
  },
  {
   "cell_type": "markdown",
   "id": "9cc2291f-166a-4f7a-add6-93d745e4fe50",
   "metadata": {},
   "source": [
    "## Q2. You have built an SVM regression model and are trying to decide between using MSE or R-squared as your evaluation metric. Which metric would be more appropriate if your goal is to predict the actual price of a house as accurately as possible?\n",
    "\n"
   ]
  },
  {
   "cell_type": "markdown",
   "id": "aa7ecfbd-a55d-443d-9409-29d85b814003",
   "metadata": {},
   "source": [
    "- > MSE measures the average squared difference between the predicted values and the actual values. In the context of house price prediction, you want to minimize the difference between your predicted prices and the actual prices. A lower MSE indicates that your model's predictions are closer to the true values.\n",
    "\n",
    "- > R-squared, on the other hand, is a measure of the proportion of variance in the dependent variable that is explained by the independent variables. While R-squared is useful for understanding the proportion of variability in the target variable that your model captures, it may not directly convey how close your predictions are to the actual house prices.\n",
    "\n",
    "- > For the specific goal of predicting house prices accurately, MSE would be the more suitable metric."
   ]
  },
  {
   "cell_type": "code",
   "execution_count": null,
   "id": "38a38efc-5d98-4ce7-9a15-cf3c6b69ef2e",
   "metadata": {},
   "outputs": [],
   "source": []
  },
  {
   "cell_type": "markdown",
   "id": "652d97bf-e02b-4860-8765-5a89a7299468",
   "metadata": {},
   "source": [
    "## Q3. You have a dataset with a significant number of outliers and are trying to select an appropriate regression metric to use with your SVM model. Which metric would be the most appropriate in this scenario?"
   ]
  },
  {
   "cell_type": "markdown",
   "id": "5af8ad0c-b0d7-4a07-9e10-2806d81b38f9",
   "metadata": {},
   "source": [
    "- > The Mean Absolute Error is less sensitive to outliers compared to the Mean Squared Error (MSE). Outliers can have a substantial impact on the squared differences used in MSE, leading to larger errors. MAE, being based on absolute differences, is more robust to outliers as it considers the magnitude of the errors without squaring them."
   ]
  },
  {
   "cell_type": "code",
   "execution_count": null,
   "id": "84cc04f1-4fe6-4c5f-b6a7-2125d20c8ba2",
   "metadata": {},
   "outputs": [],
   "source": []
  },
  {
   "cell_type": "markdown",
   "id": "77df9717-fa47-40fa-9917-2dad769cb7aa",
   "metadata": {},
   "source": [
    "## Q4. You have built an SVM regression model using a polynomial kernel and are trying to select the bestmetric to evaluate its performance. You have calculated both MSE and RMSE and found that both values are very close. Which metric should you choose to use in this case?"
   ]
  },
  {
   "cell_type": "markdown",
   "id": "56253a44-d0ec-47bc-bdaf-6460e2a92a42",
   "metadata": {},
   "source": [
    "- > RMSE has the advantage of being in the same units as the target variable, making it more directly interpretable in the context of the problem. However, if you prefer a metric that penalizes larger errors more severely (because of the squaring in MSE), you might choose MSE.\n",
    "\n",
    "- > f MSE and RMSE are very close and the interpretability is not a significant concern in your specific application, you can choose either metric."
   ]
  },
  {
   "cell_type": "code",
   "execution_count": null,
   "id": "13d24733-1bb4-4e53-8e1f-2a22c50f865b",
   "metadata": {},
   "outputs": [],
   "source": []
  },
  {
   "cell_type": "markdown",
   "id": "12914e63-214c-4b0e-8f4c-10d8ed8e984f",
   "metadata": {},
   "source": [
    "## Q5. You are comparing the performance of different SVM regression models using different kernels (linear,polynomial, and RBF) and are trying to select the best evaluation metric. Which metric would be most appropriate if your goal is to measure how well the model explains the variance in the target variable?"
   ]
  },
  {
   "cell_type": "markdown",
   "id": "e6dd576e-10c2-414a-b96b-ce25b2ce03cb",
   "metadata": {},
   "source": [
    "- > When comparing the performance of different SVM regression models with different kernels (linear, polynomial, and RBF), using R-squared can help you assess which model provides the best explanation of the variance in the target variable. Higher R-squared values indicate that a larger proportion of the variance is explained by the model, suggesting a better fit.\n",
    "\n",
    "\n",
    "\n",
    "\n"
   ]
  },
  {
   "cell_type": "code",
   "execution_count": null,
   "id": "64404c48-1490-4545-9776-50f1befb0148",
   "metadata": {},
   "outputs": [],
   "source": []
  }
 ],
 "metadata": {
  "kernelspec": {
   "display_name": "Python 3 (ipykernel)",
   "language": "python",
   "name": "python3"
  },
  "language_info": {
   "codemirror_mode": {
    "name": "ipython",
    "version": 3
   },
   "file_extension": ".py",
   "mimetype": "text/x-python",
   "name": "python",
   "nbconvert_exporter": "python",
   "pygments_lexer": "ipython3",
   "version": "3.10.8"
  }
 },
 "nbformat": 4,
 "nbformat_minor": 5
}
